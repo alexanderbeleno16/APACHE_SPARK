{
  "nbformat": 4,
  "nbformat_minor": 0,
  "metadata": {
    "colab": {
      "provenance": [],
      "toc_visible": true,
      "include_colab_link": true
    },
    "kernelspec": {
      "name": "python3",
      "display_name": "Python 3"
    },
    "language_info": {
      "name": "python"
    }
  },
  "cells": [
    {
      "cell_type": "markdown",
      "metadata": {
        "id": "view-in-github",
        "colab_type": "text"
      },
      "source": [
        "<a href=\"https://colab.research.google.com/github/alexanderbeleno16/APACHE_SPARK/blob/main/APACHE_SPARK.ipynb\" target=\"_parent\"><img src=\"https://colab.research.google.com/assets/colab-badge.svg\" alt=\"Open In Colab\"/></a>"
      ]
    },
    {
      "cell_type": "markdown",
      "source": [
        "# APACHE SPARK\n",
        "\n",
        "# **MI 2024-1 NOCTURNO**\n",
        "\n",
        "## CORPORACIÓN UNIVERSITARIA LATINOAMERICANA\n",
        "\n",
        "### PRESENTADO POR:\n",
        "\n",
        "### ALEXANDER BELEÑO, VANESSA BAENA, ANDREA JABBA, STIVEN MORALES\n"
      ],
      "metadata": {
        "id": "RoR0J4NxGzLm"
      }
    },
    {
      "cell_type": "markdown",
      "source": [
        "## **Referencia del Dataset**\n",
        "https://drive.google.com/file/d/1po8jV73Mm-HEdJP0KWgCbKCX-P9v1tV5/view?pli=1"
      ],
      "metadata": {
        "id": "UbLTENT-G5Mv"
      }
    },
    {
      "cell_type": "markdown",
      "source": [
        "## **Análisis exploratorio**"
      ],
      "metadata": {
        "id": "Bk0gRcyXp3Pw"
      }
    },
    {
      "cell_type": "code",
      "execution_count": 9,
      "metadata": {
        "colab": {
          "base_uri": "https://localhost:8080/"
        },
        "id": "7a7r0KithEEl",
        "outputId": "662f45d8-f9cd-460a-8e04-f7690190f00d"
      },
      "outputs": [
        {
          "output_type": "stream",
          "name": "stdout",
          "text": [
            "Requirement already satisfied: pyspark in /usr/local/lib/python3.10/dist-packages (3.5.1)\n",
            "Requirement already satisfied: py4j==0.10.9.7 in /usr/local/lib/python3.10/dist-packages (from pyspark) (0.10.9.7)\n"
          ]
        }
      ],
      "source": [
        "!pip install pyspark"
      ]
    },
    {
      "cell_type": "code",
      "source": [
        "# from google.colab import drive\n",
        "# drive.mount('/content/drive')"
      ],
      "metadata": {
        "id": "2BksDYzxiWrs"
      },
      "execution_count": 10,
      "outputs": []
    },
    {
      "cell_type": "code",
      "source": [
        "!pip install -q findspark"
      ],
      "metadata": {
        "id": "VYo3JLbetM1u"
      },
      "execution_count": 11,
      "outputs": []
    },
    {
      "cell_type": "code",
      "source": [
        "import findspark\n",
        "findspark.init()"
      ],
      "metadata": {
        "id": "JeBAdWztTpNG"
      },
      "execution_count": 12,
      "outputs": []
    },
    {
      "cell_type": "code",
      "source": [
        "!jps"
      ],
      "metadata": {
        "colab": {
          "base_uri": "https://localhost:8080/"
        },
        "id": "f0BLS3nimFnH",
        "outputId": "ffab5f5a-7ca2-4aee-8094-f5ad81fe7c71"
      },
      "execution_count": 13,
      "outputs": [
        {
          "output_type": "stream",
          "name": "stdout",
          "text": [
            "9207 Jps\n",
            "1307 SparkSubmit\n"
          ]
        }
      ]
    },
    {
      "cell_type": "code",
      "source": [
        "from pyspark.sql import SparkSession\n",
        "import matplotlib.pyplot as plt\n",
        "import urllib.request\n",
        "\n",
        "# Crea una instancia de SparkSession\n",
        "spark = SparkSession.builder \\\n",
        "    .master(\"local[*]\") \\\n",
        "    .appName(\"Google_Colab_PySpark\") \\\n",
        "    .getOrCreate()  # Nombre de la aplicación Spark"
      ],
      "metadata": {
        "id": "5-x_sE-ahNm2"
      },
      "execution_count": 14,
      "outputs": []
    },
    {
      "cell_type": "code",
      "source": [
        "from google.colab import drive\n",
        "drive.mount('/content/gdrive', force_remount=True)\n",
        "filename='/content/gdrive/MyDrive/files/BD.csv'"
      ],
      "metadata": {
        "colab": {
          "base_uri": "https://localhost:8080/"
        },
        "id": "AjJmSzuMhPcz",
        "outputId": "9c528499-dd2a-46dd-bd85-7615939925ae"
      },
      "execution_count": 15,
      "outputs": [
        {
          "output_type": "stream",
          "name": "stdout",
          "text": [
            "Mounted at /content/gdrive\n"
          ]
        }
      ]
    },
    {
      "cell_type": "code",
      "source": [
        "# Lee el archivo CSV desde el sistema de archivos local en Spark\n",
        "df = spark.read.csv(filename, header=True, inferSchema=True, sep=',')\n",
        "\n",
        "# Muestra las primeras filas del DataFrame\n",
        "df.show()"
      ],
      "metadata": {
        "colab": {
          "base_uri": "https://localhost:8080/"
        },
        "id": "H4TfAlCjhS7m",
        "outputId": "fb383877-7f0a-4fcf-d598-b688a9dcda2a"
      },
      "execution_count": 16,
      "outputs": [
        {
          "output_type": "stream",
          "name": "stdout",
          "text": [
            "+------------+-----------+----------+--------------------+-------------------+----------------+---------------+--------------+--------------------+\n",
            "| nombre_nodo|nombre_plan|id_consumo|dow_gigabyte_consumo|up_gigabyte_consumo|dow_rate_consumo|up_rate_consumo|uptime_consumo|            fecha_rg|\n",
            "+------------+-----------+----------+--------------------+-------------------+----------------+---------------+--------------+--------------------+\n",
            "|172.31.100.1|     PLAN5M| 166150122|                0.98|               0.38|            5.81|           0.24|      1h24m43s|2023-12-01 07:50:...|\n",
            "|172.31.100.1|     PLAN5M| 166150121|                5.42|               0.31|            0.03|           0.01|      14h7m34s|2023-12-01 07:50:...|\n",
            "|172.31.100.1|     PLAN5M| 166150120|                5.22|               0.39|             0.0|            0.0|      14h9m19s|2023-12-01 07:50:...|\n",
            "|172.31.100.1|     PLAN5M| 166150119|                3.09|               0.15|             0.0|            0.0|     15h23m48s|2023-12-01 07:50:...|\n",
            "|172.31.100.1|     PLAN5M| 166150118|               14.06|               1.13|            0.03|           0.06|     15h31m41s|2023-12-01 07:50:...|\n",
            "|172.31.100.1|     PLAN5M| 166150117|                7.09|               0.44|             0.0|            0.0|     15h38m16s|2023-12-01 07:50:...|\n",
            "|172.31.100.1|     PLAN5M| 166150116|                4.49|               0.16|             0.0|            0.0|     15h47m57s|2023-12-01 07:50:...|\n",
            "|172.31.100.1|     PLAN5M| 166150115|                8.41|               0.64|            0.85|           0.02|     15h49m32s|2023-12-01 07:50:...|\n",
            "|172.31.100.1|     PLAN5M| 166150114|                 9.9|               0.37|             0.0|            0.0|     15h49m32s|2023-12-01 07:50:...|\n",
            "|172.31.100.1|     PLAN5M| 166150113|                9.47|                0.8|            1.68|           0.07|     15h49m33s|2023-12-01 07:50:...|\n",
            "|172.31.100.1|     PLAN5M| 166150112|                8.02|                0.5|            2.63|           0.31|     15h49m32s|2023-12-01 07:50:...|\n",
            "|172.31.100.1|     PLAN5M| 166150111|                6.15|               0.36|             0.0|            0.0|     15h49m33s|2023-12-01 07:50:...|\n",
            "|172.31.100.1|     PLAN5M| 166150110|                4.16|               0.18|             0.0|            0.0|     15h49m33s|2023-12-01 07:50:...|\n",
            "|172.31.100.1|     PLAN5M| 166150109|                6.22|               0.72|            5.72|           0.28|     15h49m33s|2023-12-01 07:50:...|\n",
            "|172.31.100.1|     PLAN5M| 166150108|                1.37|               0.15|             0.0|            0.0|     15h49m33s|2023-12-01 07:50:...|\n",
            "|172.31.100.1|     PLAN5M| 166150107|                1.59|               0.33|             0.0|            0.0|     15h49m33s|2023-12-01 07:50:...|\n",
            "|172.31.100.1|     PLAN5M| 166150106|                12.8|               1.37|             0.0|            0.0|   1d14h18m28s|2023-12-01 07:50:...|\n",
            "|172.31.100.1|     PLAN5M| 166150105|                2.28|                0.2|             0.0|            0.0|     2d1h40m7s|2023-12-01 07:50:...|\n",
            "|172.31.100.1|     PLAN5M| 166150104|               19.63|               3.11|             0.0|            0.0|     2d7h4m50s|2023-12-01 07:50:...|\n",
            "|172.31.100.1|     PLAN5M| 166150103|                4.44|                0.8|             0.0|            0.0|     2d7h4m52s|2023-12-01 07:50:...|\n",
            "+------------+-----------+----------+--------------------+-------------------+----------------+---------------+--------------+--------------------+\n",
            "only showing top 20 rows\n",
            "\n"
          ]
        }
      ]
    },
    {
      "cell_type": "code",
      "source": [
        "print(\"Primeras 5 filas del DataFrame:\")\n",
        "df.show(5)"
      ],
      "metadata": {
        "colab": {
          "base_uri": "https://localhost:8080/"
        },
        "id": "J24Q-G75pJxS",
        "outputId": "c28394a9-7f25-44ac-a655-6284e8928dc9"
      },
      "execution_count": 17,
      "outputs": [
        {
          "output_type": "stream",
          "name": "stdout",
          "text": [
            "Primeras 5 filas del DataFrame:\n",
            "+------------+-----------+----------+--------------------+-------------------+----------------+---------------+--------------+--------------------+\n",
            "| nombre_nodo|nombre_plan|id_consumo|dow_gigabyte_consumo|up_gigabyte_consumo|dow_rate_consumo|up_rate_consumo|uptime_consumo|            fecha_rg|\n",
            "+------------+-----------+----------+--------------------+-------------------+----------------+---------------+--------------+--------------------+\n",
            "|172.31.100.1|     PLAN5M| 166150122|                0.98|               0.38|            5.81|           0.24|      1h24m43s|2023-12-01 07:50:...|\n",
            "|172.31.100.1|     PLAN5M| 166150121|                5.42|               0.31|            0.03|           0.01|      14h7m34s|2023-12-01 07:50:...|\n",
            "|172.31.100.1|     PLAN5M| 166150120|                5.22|               0.39|             0.0|            0.0|      14h9m19s|2023-12-01 07:50:...|\n",
            "|172.31.100.1|     PLAN5M| 166150119|                3.09|               0.15|             0.0|            0.0|     15h23m48s|2023-12-01 07:50:...|\n",
            "|172.31.100.1|     PLAN5M| 166150118|               14.06|               1.13|            0.03|           0.06|     15h31m41s|2023-12-01 07:50:...|\n",
            "+------------+-----------+----------+--------------------+-------------------+----------------+---------------+--------------+--------------------+\n",
            "only showing top 5 rows\n",
            "\n"
          ]
        }
      ]
    },
    {
      "cell_type": "code",
      "source": [
        "# Conocer las columnas del DataFrame\n",
        "print(\"\\nColumnas del DataFrame:\")\n",
        "df.printSchema()"
      ],
      "metadata": {
        "colab": {
          "base_uri": "https://localhost:8080/"
        },
        "id": "v8gpVD5PrEeF",
        "outputId": "98b8f675-73e4-47ce-f492-1ef90af632f6"
      },
      "execution_count": 18,
      "outputs": [
        {
          "output_type": "stream",
          "name": "stdout",
          "text": [
            "\n",
            "Columnas del DataFrame:\n",
            "root\n",
            " |-- nombre_nodo: string (nullable = true)\n",
            " |-- nombre_plan: string (nullable = true)\n",
            " |-- id_consumo: integer (nullable = true)\n",
            " |-- dow_gigabyte_consumo: double (nullable = true)\n",
            " |-- up_gigabyte_consumo: double (nullable = true)\n",
            " |-- dow_rate_consumo: double (nullable = true)\n",
            " |-- up_rate_consumo: double (nullable = true)\n",
            " |-- uptime_consumo: string (nullable = true)\n",
            " |-- fecha_rg: timestamp (nullable = true)\n",
            "\n"
          ]
        }
      ]
    },
    {
      "cell_type": "code",
      "source": [
        "# Contar el número de filas y columnas\n",
        "num_filas = df.count()\n",
        "num_columnas = len(df.columns)\n",
        "print(f\"\\nNúmero de filas: {num_filas}\")\n",
        "print(f\"Número de columnas: {num_columnas}\")"
      ],
      "metadata": {
        "colab": {
          "base_uri": "https://localhost:8080/"
        },
        "id": "UlWTFcUmrJX8",
        "outputId": "152c8eca-b0b0-45c3-8757-caf6358cfd95"
      },
      "execution_count": 19,
      "outputs": [
        {
          "output_type": "stream",
          "name": "stdout",
          "text": [
            "\n",
            "Número de filas: 67230350\n",
            "Número de columnas: 9\n"
          ]
        }
      ]
    },
    {
      "cell_type": "code",
      "source": [
        "df.describe().show()"
      ],
      "metadata": {
        "colab": {
          "base_uri": "https://localhost:8080/"
        },
        "id": "HGJXiQ0Lrv94",
        "outputId": "c1ce82e9-6119-43c4-9bc4-a876dbdd7cda"
      },
      "execution_count": 20,
      "outputs": [
        {
          "output_type": "stream",
          "name": "stdout",
          "text": [
            "+-------+------------+-----------+--------------------+--------------------+-------------------+------------------+-------------------+------------------+\n",
            "|summary| nombre_nodo|nombre_plan|          id_consumo|dow_gigabyte_consumo|up_gigabyte_consumo|  dow_rate_consumo|    up_rate_consumo|    uptime_consumo|\n",
            "+-------+------------+-----------+--------------------+--------------------+-------------------+------------------+-------------------+------------------+\n",
            "|  count|    67230350|   67230350|            67230350|            67230350|           67230350|          67230350|           67230350|          67230350|\n",
            "|   mean|        NULL|       NULL|2.0024924135975072E8|  28.976774407392934| 1.9693674352427821|1.2703520358004032|0.08705042172160608|2.5414746543778803|\n",
            "| stddev|        NULL|       NULL|1.9664582446379468E7|   43.61501834880509|  4.822233983520108| 4.025980835546445| 0.9884029361159161| 1.571802231374043|\n",
            "|    min|172.31.100.1|   PLAN100M|           166150091|                 0.0|                0.0|               0.0|                0.0|                0s|\n",
            "|    max|172.31.100.6|    PLAN80M|           234258438|             1049.45|              546.8|            411.01|              402.6|                9s|\n",
            "+-------+------------+-----------+--------------------+--------------------+-------------------+------------------+-------------------+------------------+\n",
            "\n"
          ]
        }
      ]
    },
    {
      "cell_type": "code",
      "source": [
        "print(\"\\nColumnas dow_rate_consumo diferentes a 0:\")\n",
        "df_filtered = df.filter(df[\"dow_rate_consumo\"] > 0)\n",
        "df_filtered.show(4)"
      ],
      "metadata": {
        "colab": {
          "base_uri": "https://localhost:8080/"
        },
        "id": "FBTIAmxbDktH",
        "outputId": "062b85e8-7f50-4b0a-8657-2f7b300b2d88"
      },
      "execution_count": 21,
      "outputs": [
        {
          "output_type": "stream",
          "name": "stdout",
          "text": [
            "\n",
            "Columnas dow_rate_consumo diferentes a 0:\n",
            "+------------+-----------+----------+--------------------+-------------------+----------------+---------------+--------------+--------------------+\n",
            "| nombre_nodo|nombre_plan|id_consumo|dow_gigabyte_consumo|up_gigabyte_consumo|dow_rate_consumo|up_rate_consumo|uptime_consumo|            fecha_rg|\n",
            "+------------+-----------+----------+--------------------+-------------------+----------------+---------------+--------------+--------------------+\n",
            "|172.31.100.1|     PLAN5M| 166150122|                0.98|               0.38|            5.81|           0.24|      1h24m43s|2023-12-01 07:50:...|\n",
            "|172.31.100.1|     PLAN5M| 166150121|                5.42|               0.31|            0.03|           0.01|      14h7m34s|2023-12-01 07:50:...|\n",
            "|172.31.100.1|     PLAN5M| 166150118|               14.06|               1.13|            0.03|           0.06|     15h31m41s|2023-12-01 07:50:...|\n",
            "|172.31.100.1|     PLAN5M| 166150115|                8.41|               0.64|            0.85|           0.02|     15h49m32s|2023-12-01 07:50:...|\n",
            "+------------+-----------+----------+--------------------+-------------------+----------------+---------------+--------------+--------------------+\n",
            "only showing top 4 rows\n",
            "\n"
          ]
        }
      ]
    },
    {
      "cell_type": "code",
      "source": [
        "# Convertir el DataFrame de PySpark a Pandas\n",
        "import pandas as pd\n",
        "df_small = df_filtered.select(\"nombre_nodo\", \"nombre_plan\", \"dow_rate_consumo\").limit(1000)\n",
        "pdf = df_small.toPandas()\n"
      ],
      "metadata": {
        "id": "9NkT7eX-FAod"
      },
      "execution_count": 22,
      "outputs": []
    },
    {
      "cell_type": "code",
      "source": [
        "import seaborn as sns\n",
        "\n",
        "# Histograma de dow_rate_consumo\n",
        "plt.figure(figsize=(10, 6))\n",
        "sns.histplot(pdf['dow_rate_consumo'], bins=30, kde=True)\n",
        "plt.title('Distribución de dow_rate_consumo')\n",
        "plt.xlabel('dow_rate_consumo')\n",
        "plt.ylabel('Frecuencia')\n",
        "plt.show()"
      ],
      "metadata": {
        "id": "8C7hnkUVKXR_",
        "colab": {
          "base_uri": "https://localhost:8080/",
          "height": 565
        },
        "outputId": "66d330b3-eb4f-42c2-8ef8-3dd1519945ef"
      },
      "execution_count": 23,
      "outputs": [
        {
          "output_type": "display_data",
          "data": {
            "text/plain": [
              "<Figure size 1000x600 with 1 Axes>"
            ],
            "image/png": "[encoded data removed]"
          },
          "metadata": {}
        }
      ]
    },
    {
      "cell_type": "code",
      "source": [
        "# Box plot de dow_rate_consumo por nombre_plan\n",
        "plt.figure(figsize=(12, 8))\n",
        "sns.boxplot(x='nombre_plan', y='dow_rate_consumo', data=pdf)\n",
        "plt.title('dow_rate_consumo por nombre_plan')\n",
        "plt.xlabel('nombre_plan')\n",
        "plt.ylabel('dow_rate_consumo')\n",
        "plt.xticks(rotation=45)\n",
        "plt.show()"
      ],
      "metadata": {
        "colab": {
          "base_uri": "https://localhost:8080/",
          "height": 767
        },
        "id": "Q6tUAxJQ6GTy",
        "outputId": "11bb450e-e031-4e24-9b4b-afdb05cf40cc"
      },
      "execution_count": 24,
      "outputs": [
        {
          "output_type": "display_data",
          "data": {
            "text/plain": [
              "<Figure size 1200x800 with 1 Axes>"
            ],
            "image/png": "[encoded data removed]"
          },
          "metadata": {}
        }
      ]
    },
    {
      "cell_type": "code",
      "source": [
        "from pyspark.sql import functions as F\n",
        "# Crear un diccionario para almacenar las modas\n",
        "modes = {}\n",
        "\n",
        "# Calcular la moda para cada columna con valores nulos y almacenarla en el diccionario\n",
        "for col_name in df.columns:\n",
        "    mode_value = df.groupBy(col_name).count().orderBy(F.desc(\"count\")).first()[0]\n",
        "    modes[col_name] = mode_value"
      ],
      "metadata": {
        "id": "R3_7_W8t6M1T"
      },
      "execution_count": 25,
      "outputs": []
    },
    {
      "cell_type": "markdown",
      "source": [
        "## Preprocesamiento\n",
        "Filtrar por cada columna, todos los valores nulos para luego reemplazarlos por la moda de cada columna correspondiente"
      ],
      "metadata": {
        "id": "lRfkFOuCGrrW"
      }
    },
    {
      "cell_type": "code",
      "source": [
        "from pyspark.sql.types import TimestampType\n",
        "# Función auxiliar para reemplazar valores nulos en columnas de tipo Timestamp\n",
        "def fill_nulls_with_mode(df, modes):\n",
        "    for col_name, mode_value in modes.items():\n",
        "        if df.schema[col_name].dataType == TimestampType():\n",
        "            df = df.withColumn(col_name, F.when(F.col(col_name).isNull(), F.lit(mode_value).cast(TimestampType())).otherwise(F.col(col_name)))\n",
        "        else:\n",
        "            df = df.fillna({col_name: mode_value})\n",
        "    return df\n",
        "\n",
        "# Reemplazar los valores nulos con la moda correspondiente\n",
        "df_filled = fill_nulls_with_mode(df, modes)\n",
        "\n",
        "# Verificar que no haya valores nulos restantes\n",
        "df_filled.show()"
      ],
      "metadata": {
        "colab": {
          "base_uri": "https://localhost:8080/"
        },
        "id": "Xc7dlhwq7iGD",
        "outputId": "b91d3064-f2fd-4f3e-c930-4ed8c8730014"
      },
      "execution_count": 26,
      "outputs": [
        {
          "output_type": "stream",
          "name": "stdout",
          "text": [
            "+------------+-----------+----------+--------------------+-------------------+----------------+---------------+--------------+--------------------+\n",
            "| nombre_nodo|nombre_plan|id_consumo|dow_gigabyte_consumo|up_gigabyte_consumo|dow_rate_consumo|up_rate_consumo|uptime_consumo|            fecha_rg|\n",
            "+------------+-----------+----------+--------------------+-------------------+----------------+---------------+--------------+--------------------+\n",
            "|172.31.100.1|     PLAN5M| 166150122|                0.98|               0.38|            5.81|           0.24|      1h24m43s|2023-12-01 07:50:...|\n",
            "|172.31.100.1|     PLAN5M| 166150121|                5.42|               0.31|            0.03|           0.01|      14h7m34s|2023-12-01 07:50:...|\n",
            "|172.31.100.1|     PLAN5M| 166150120|                5.22|               0.39|             0.0|            0.0|      14h9m19s|2023-12-01 07:50:...|\n",
            "|172.31.100.1|     PLAN5M| 166150119|                3.09|               0.15|             0.0|            0.0|     15h23m48s|2023-12-01 07:50:...|\n",
            "|172.31.100.1|     PLAN5M| 166150118|               14.06|               1.13|            0.03|           0.06|     15h31m41s|2023-12-01 07:50:...|\n",
            "|172.31.100.1|     PLAN5M| 166150117|                7.09|               0.44|             0.0|            0.0|     15h38m16s|2023-12-01 07:50:...|\n",
            "|172.31.100.1|     PLAN5M| 166150116|                4.49|               0.16|             0.0|            0.0|     15h47m57s|2023-12-01 07:50:...|\n",
            "|172.31.100.1|     PLAN5M| 166150115|                8.41|               0.64|            0.85|           0.02|     15h49m32s|2023-12-01 07:50:...|\n",
            "|172.31.100.1|     PLAN5M| 166150114|                 9.9|               0.37|             0.0|            0.0|     15h49m32s|2023-12-01 07:50:...|\n",
            "|172.31.100.1|     PLAN5M| 166150113|                9.47|                0.8|            1.68|           0.07|     15h49m33s|2023-12-01 07:50:...|\n",
            "|172.31.100.1|     PLAN5M| 166150112|                8.02|                0.5|            2.63|           0.31|     15h49m32s|2023-12-01 07:50:...|\n",
            "|172.31.100.1|     PLAN5M| 166150111|                6.15|               0.36|             0.0|            0.0|     15h49m33s|2023-12-01 07:50:...|\n",
            "|172.31.100.1|     PLAN5M| 166150110|                4.16|               0.18|             0.0|            0.0|     15h49m33s|2023-12-01 07:50:...|\n",
            "|172.31.100.1|     PLAN5M| 166150109|                6.22|               0.72|            5.72|           0.28|     15h49m33s|2023-12-01 07:50:...|\n",
            "|172.31.100.1|     PLAN5M| 166150108|                1.37|               0.15|             0.0|            0.0|     15h49m33s|2023-12-01 07:50:...|\n",
            "|172.31.100.1|     PLAN5M| 166150107|                1.59|               0.33|             0.0|            0.0|     15h49m33s|2023-12-01 07:50:...|\n",
            "|172.31.100.1|     PLAN5M| 166150106|                12.8|               1.37|             0.0|            0.0|   1d14h18m28s|2023-12-01 07:50:...|\n",
            "|172.31.100.1|     PLAN5M| 166150105|                2.28|                0.2|             0.0|            0.0|     2d1h40m7s|2023-12-01 07:50:...|\n",
            "|172.31.100.1|     PLAN5M| 166150104|               19.63|               3.11|             0.0|            0.0|     2d7h4m50s|2023-12-01 07:50:...|\n",
            "|172.31.100.1|     PLAN5M| 166150103|                4.44|                0.8|             0.0|            0.0|     2d7h4m52s|2023-12-01 07:50:...|\n",
            "+------------+-----------+----------+--------------------+-------------------+----------------+---------------+--------------+--------------------+\n",
            "only showing top 20 rows\n",
            "\n"
          ]
        }
      ]
    },
    {
      "cell_type": "markdown",
      "source": [
        "## Normalización"
      ],
      "metadata": {
        "id": "oukswpmE1YEu"
      }
    },
    {
      "cell_type": "code",
      "source": [
        "from pyspark.ml.feature import MinMaxScaler\n",
        "from pyspark.ml.linalg import Vectors\n",
        "from pyspark.ml.feature import VectorAssembler\n",
        "\n",
        "# Listar las columnas numéricas que quieres normalizar\n",
        "numeric_cols = [col_name for col_name, dtype in df_filled.dtypes if dtype in ['int', 'double']]\n",
        "numeric_cols.remove('dow_rate_consumo')\n",
        "\n",
        "# Inicializar el VectorAssembler\n",
        "assembler = VectorAssembler(inputCols=numeric_cols, outputCol=\"features\")\n",
        "\n",
        "# Transformar el DataFrame en un vector de características\n",
        "df_vector = assembler.transform(df_filled)\n",
        "\n",
        "# Inicializar el MinMaxScaler\n",
        "scaler = MinMaxScaler(inputCol=\"features\", outputCol=\"scaled_features\")\n",
        "\n",
        "# Ajustar el scaler al DataFrame y transformar los datos\n",
        "scaler_model = scaler.fit(df_vector)\n",
        "df_scaled = scaler_model.transform(df_vector)\n",
        "\n",
        "# Seleccionar solo las columnas necesarias para el modelo\n",
        "df_model = df_scaled.select(\"features\", \"dow_rate_consumo\")"
      ],
      "metadata": {
        "id": "iIUcoDCU1YVX"
      },
      "execution_count": 27,
      "outputs": []
    },
    {
      "cell_type": "markdown",
      "source": [
        "## Separación de pruebas y entrenamiento"
      ],
      "metadata": {
        "id": "_nqRCQZQ51os"
      }
    },
    {
      "cell_type": "code",
      "source": [
        "# Dividir los datos en entrenamiento (80%) y prueba (20%)\n",
        "# train_df, test_df = df_model.randomSplit([0.8, 0.2], seed=42)\n",
        "train_df, test_df = df_model.randomSplit([0.2, 0.1], seed=42)\n",
        "\n",
        "# Mostrar la cantidad de registros en cada conjunto\n",
        "print(\"Cantidad de registros en el conjunto de entrenamiento:\", train_df.count())\n",
        "print(\"Cantidad de registros en el conjunto de prueba:\", test_df.count())"
      ],
      "metadata": {
        "colab": {
          "base_uri": "https://localhost:8080/"
        },
        "id": "ZGTGhlZC52xC",
        "outputId": "3daec565-338b-4e44-9744-1f4b7d1e3cd3"
      },
      "execution_count": 28,
      "outputs": [
        {
          "output_type": "stream",
          "name": "stdout",
          "text": [
            "Cantidad de registros en el conjunto de entrenamiento: 44819413\n",
            "Cantidad de registros en el conjunto de prueba: 22410937\n"
          ]
        }
      ]
    },
    {
      "cell_type": "markdown",
      "source": [
        "## Entrenamiento del modelo"
      ],
      "metadata": {
        "id": "uqsggz1qBAY8"
      }
    },
    {
      "cell_type": "code",
      "source": [
        "from pyspark.ml.regression import GBTRegressor\n",
        "\n",
        "# Crear el modelo GBTRegressor\n",
        "gbt = GBTRegressor(featuresCol=\"features\", labelCol=\"dow_rate_consumo\", maxIter=100)\n",
        "\n",
        "# Entrenar el modelo\n",
        "gbt_model = gbt.fit(train_df)\n"
      ],
      "metadata": {
        "id": "3DDU_9maBApi"
      },
      "execution_count": null,
      "outputs": []
    },
    {
      "cell_type": "markdown",
      "source": [
        "## Evaluación del modelo"
      ],
      "metadata": {
        "id": "sWHHoOv-HP5o"
      }
    },
    {
      "cell_type": "code",
      "source": [
        "from pyspark.ml.evaluation import RegressionEvaluator\n",
        "\n",
        "# Hacer predicciones en los datos de prueba\n",
        "predictions = gbt_model.transform(test_df)\n",
        "\n",
        "# Crear un evaluador para medir la exactitud del modelo\n",
        "evaluator = RegressionEvaluator(labelCol=\"dow_rate_consumo\", predictionCol=\"prediction\", metricName=\"rmse\")\n",
        "\n",
        "# Calcular el RMSE (Root Mean Squared Error)\n",
        "rmse = evaluator.evaluate(predictions)\n",
        "print(f\"Root Mean Squared Error (RMSE) en los datos de prueba = {rmse}\")\n"
      ],
      "metadata": {
        "id": "1RrnT1F3HQK1"
      },
      "execution_count": null,
      "outputs": []
    },
    {
      "cell_type": "markdown",
      "source": [
        "## Mostrar las predicciones"
      ],
      "metadata": {
        "id": "bTkIaxlEIGss"
      }
    },
    {
      "cell_type": "code",
      "source": [
        "predictions.select(\"dow_rate_consumo\", \"prediction\", \"features\").show(10)\n"
      ],
      "metadata": {
        "id": "Mvzw-WQBIG6r"
      },
      "execution_count": null,
      "outputs": []
    }
  ]
}