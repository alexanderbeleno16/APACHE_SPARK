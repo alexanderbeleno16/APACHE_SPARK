{
  "nbformat": 4,
  "nbformat_minor": 0,
  "metadata": {
    "colab": {
      "provenance": [],
      "toc_visible": true,
      "include_colab_link": true
    },
    "kernelspec": {
      "name": "python3",
      "display_name": "Python 3"
    },
    "language_info": {
      "name": "python"
    }
  },
  "cells": [
    {
      "cell_type": "markdown",
      "metadata": {
        "id": "view-in-github",
        "colab_type": "text"
      },
      "source": [
        "<a href=\"https://colab.research.google.com/github/alexanderbeleno16/APACHE_SPARK/blob/main/APACHE_SPARK.ipynb\" target=\"_parent\"><img src=\"https://colab.research.google.com/assets/colab-badge.svg\" alt=\"Open In Colab\"/></a>"
      ]
    },
    {
      "cell_type": "code",
      "execution_count": 2,
      "metadata": {
        "colab": {
          "base_uri": "https://localhost:8080/"
        },
        "id": "7a7r0KithEEl",
        "outputId": "d1d68729-b1d2-4c8f-8712-7556b90bfd14"
      },
      "outputs": [
        {
          "output_type": "stream",
          "name": "stdout",
          "text": [
            "Collecting pyspark\n",
            "  Downloading pyspark-3.5.1.tar.gz (317.0 MB)\n",
            "\u001b[2K     \u001b[90m━━━━━━━━━━━━━━━━━━━━━━━━━━━━━━━━━━━━━━━━\u001b[0m \u001b[32m317.0/317.0 MB\u001b[0m \u001b[31m3.6 MB/s\u001b[0m eta \u001b[36m0:00:00\u001b[0m\n",
            "\u001b[?25h  Preparing metadata (setup.py) ... \u001b[?25l\u001b[?25hdone\n",
            "Requirement already satisfied: py4j==0.10.9.7 in /usr/local/lib/python3.10/dist-packages (from pyspark) (0.10.9.7)\n",
            "Building wheels for collected packages: pyspark\n",
            "  Building wheel for pyspark (setup.py) ... \u001b[?25l\u001b[?25hdone\n",
            "  Created wheel for pyspark: filename=pyspark-3.5.1-py2.py3-none-any.whl size=317488491 sha256=37fb5749f3de989ecae92ae128ebbd93b97e1840a413e9eaa09c7be56a968fa9\n",
            "  Stored in directory: /root/.cache/pip/wheels/80/1d/60/2c256ed38dddce2fdd93be545214a63e02fbd8d74fb0b7f3a6\n",
            "Successfully built pyspark\n",
            "Installing collected packages: pyspark\n",
            "Successfully installed pyspark-3.5.1\n"
          ]
        }
      ],
      "source": [
        "pip install pyspark"
      ]
    },
    {
      "cell_type": "code",
      "source": [
        "from pyspark.sql import SparkSession\n",
        "import urllib.request\n",
        "from google.colab import drive\n",
        "\n",
        "# Crea una instancia de SparkSession\n",
        "spark = SparkSession.builder \\\n",
        "    .master(\"local[*]\") \\\n",
        "    .appName(\"Google_Colab_PySpark\") \\\n",
        "    .getOrCreate()  # Nombre de la aplicación Spark"
      ],
      "metadata": {
        "id": "5-x_sE-ahNm2"
      },
      "execution_count": 23,
      "outputs": []
    },
    {
      "cell_type": "code",
      "source": [
        "drive.mount('/content/gdrive', force_remount=True)\n",
        "filename='/content/gdrive/MyDrive/files/BD.csv'"
      ],
      "metadata": {
        "colab": {
          "base_uri": "https://localhost:8080/"
        },
        "id": "AjJmSzuMhPcz",
        "outputId": "924dea3d-3fd6-47fd-950b-3726ba9090ba"
      },
      "execution_count": 24,
      "outputs": [
        {
          "output_type": "stream",
          "name": "stdout",
          "text": [
            "Mounted at /content/gdrive\n"
          ]
        }
      ]
    },
    {
      "cell_type": "code",
      "source": [
        "# Lee el archivo CSV desde el sistema de archivos local en Spark\n",
        "df = spark.read.csv(filename, header=True, inferSchema=True, sep=',')\n",
        "\n",
        "# Muestra las primeras filas del DataFrame\n",
        "df.show()"
      ],
      "metadata": {
        "colab": {
          "base_uri": "https://localhost:8080/"
        },
        "id": "H4TfAlCjhS7m",
        "outputId": "7d7024f2-a3a0-45d3-e907-a056e80c8ac2"
      },
      "execution_count": 25,
      "outputs": [
        {
          "output_type": "stream",
          "name": "stdout",
          "text": [
            "+------------+-----------+----------+--------------------+-------------------+----------------+---------------+--------------+--------------------+\n",
            "| nombre_nodo|nombre_plan|id_consumo|dow_gigabyte_consumo|up_gigabyte_consumo|dow_rate_consumo|up_rate_consumo|uptime_consumo|            fecha_rg|\n",
            "+------------+-----------+----------+--------------------+-------------------+----------------+---------------+--------------+--------------------+\n",
            "|172.31.100.1|     PLAN5M| 166150122|                0.98|               0.38|            5.81|           0.24|      1h24m43s|2023-12-01 07:50:...|\n",
            "|172.31.100.1|     PLAN5M| 166150121|                5.42|               0.31|            0.03|           0.01|      14h7m34s|2023-12-01 07:50:...|\n",
            "|172.31.100.1|     PLAN5M| 166150120|                5.22|               0.39|             0.0|            0.0|      14h9m19s|2023-12-01 07:50:...|\n",
            "|172.31.100.1|     PLAN5M| 166150119|                3.09|               0.15|             0.0|            0.0|     15h23m48s|2023-12-01 07:50:...|\n",
            "|172.31.100.1|     PLAN5M| 166150118|               14.06|               1.13|            0.03|           0.06|     15h31m41s|2023-12-01 07:50:...|\n",
            "|172.31.100.1|     PLAN5M| 166150117|                7.09|               0.44|             0.0|            0.0|     15h38m16s|2023-12-01 07:50:...|\n",
            "|172.31.100.1|     PLAN5M| 166150116|                4.49|               0.16|             0.0|            0.0|     15h47m57s|2023-12-01 07:50:...|\n",
            "|172.31.100.1|     PLAN5M| 166150115|                8.41|               0.64|            0.85|           0.02|     15h49m32s|2023-12-01 07:50:...|\n",
            "|172.31.100.1|     PLAN5M| 166150114|                 9.9|               0.37|             0.0|            0.0|     15h49m32s|2023-12-01 07:50:...|\n",
            "|172.31.100.1|     PLAN5M| 166150113|                9.47|                0.8|            1.68|           0.07|     15h49m33s|2023-12-01 07:50:...|\n",
            "|172.31.100.1|     PLAN5M| 166150112|                8.02|                0.5|            2.63|           0.31|     15h49m32s|2023-12-01 07:50:...|\n",
            "|172.31.100.1|     PLAN5M| 166150111|                6.15|               0.36|             0.0|            0.0|     15h49m33s|2023-12-01 07:50:...|\n",
            "|172.31.100.1|     PLAN5M| 166150110|                4.16|               0.18|             0.0|            0.0|     15h49m33s|2023-12-01 07:50:...|\n",
            "|172.31.100.1|     PLAN5M| 166150109|                6.22|               0.72|            5.72|           0.28|     15h49m33s|2023-12-01 07:50:...|\n",
            "|172.31.100.1|     PLAN5M| 166150108|                1.37|               0.15|             0.0|            0.0|     15h49m33s|2023-12-01 07:50:...|\n",
            "|172.31.100.1|     PLAN5M| 166150107|                1.59|               0.33|             0.0|            0.0|     15h49m33s|2023-12-01 07:50:...|\n",
            "|172.31.100.1|     PLAN5M| 166150106|                12.8|               1.37|             0.0|            0.0|   1d14h18m28s|2023-12-01 07:50:...|\n",
            "|172.31.100.1|     PLAN5M| 166150105|                2.28|                0.2|             0.0|            0.0|     2d1h40m7s|2023-12-01 07:50:...|\n",
            "|172.31.100.1|     PLAN5M| 166150104|               19.63|               3.11|             0.0|            0.0|     2d7h4m50s|2023-12-01 07:50:...|\n",
            "|172.31.100.1|     PLAN5M| 166150103|                4.44|                0.8|             0.0|            0.0|     2d7h4m52s|2023-12-01 07:50:...|\n",
            "+------------+-----------+----------+--------------------+-------------------+----------------+---------------+--------------+--------------------+\n",
            "only showing top 20 rows\n",
            "\n"
          ]
        }
      ]
    },
    {
      "cell_type": "code",
      "source": [
        "print(\"Primeras 5 filas del DataFrame:\")\n",
        "df.show(5)"
      ],
      "metadata": {
        "colab": {
          "base_uri": "https://localhost:8080/"
        },
        "id": "J24Q-G75pJxS",
        "outputId": "2fbd371e-79b4-4d28-b94f-7b6391af1c74"
      },
      "execution_count": 28,
      "outputs": [
        {
          "output_type": "stream",
          "name": "stdout",
          "text": [
            "Primeras 5 filas del DataFrame:\n",
            "+------------+-----------+----------+--------------------+-------------------+----------------+---------------+--------------+--------------------+\n",
            "| nombre_nodo|nombre_plan|id_consumo|dow_gigabyte_consumo|up_gigabyte_consumo|dow_rate_consumo|up_rate_consumo|uptime_consumo|            fecha_rg|\n",
            "+------------+-----------+----------+--------------------+-------------------+----------------+---------------+--------------+--------------------+\n",
            "|172.31.100.1|     PLAN5M| 166150122|                0.98|               0.38|            5.81|           0.24|      1h24m43s|2023-12-01 07:50:...|\n",
            "|172.31.100.1|     PLAN5M| 166150121|                5.42|               0.31|            0.03|           0.01|      14h7m34s|2023-12-01 07:50:...|\n",
            "|172.31.100.1|     PLAN5M| 166150120|                5.22|               0.39|             0.0|            0.0|      14h9m19s|2023-12-01 07:50:...|\n",
            "|172.31.100.1|     PLAN5M| 166150119|                3.09|               0.15|             0.0|            0.0|     15h23m48s|2023-12-01 07:50:...|\n",
            "|172.31.100.1|     PLAN5M| 166150118|               14.06|               1.13|            0.03|           0.06|     15h31m41s|2023-12-01 07:50:...|\n",
            "+------------+-----------+----------+--------------------+-------------------+----------------+---------------+--------------+--------------------+\n",
            "only showing top 5 rows\n",
            "\n"
          ]
        }
      ]
    },
    {
      "cell_type": "code",
      "source": [
        "# Conocer las columnas del DataFrame\n",
        "print(\"\\nColumnas del DataFrame:\")\n",
        "df.printSchema()"
      ],
      "metadata": {
        "colab": {
          "base_uri": "https://localhost:8080/"
        },
        "id": "v8gpVD5PrEeF",
        "outputId": "84aa1382-0b77-4609-ac80-b9ad627967c1"
      },
      "execution_count": 29,
      "outputs": [
        {
          "output_type": "stream",
          "name": "stdout",
          "text": [
            "\n",
            "Columnas del DataFrame:\n",
            "root\n",
            " |-- nombre_nodo: string (nullable = true)\n",
            " |-- nombre_plan: string (nullable = true)\n",
            " |-- id_consumo: integer (nullable = true)\n",
            " |-- dow_gigabyte_consumo: double (nullable = true)\n",
            " |-- up_gigabyte_consumo: double (nullable = true)\n",
            " |-- dow_rate_consumo: double (nullable = true)\n",
            " |-- up_rate_consumo: double (nullable = true)\n",
            " |-- uptime_consumo: string (nullable = true)\n",
            " |-- fecha_rg: timestamp (nullable = true)\n",
            "\n"
          ]
        }
      ]
    },
    {
      "cell_type": "code",
      "source": [
        "# Contar el número de filas y columnas\n",
        "num_filas = df.count()\n",
        "num_columnas = len(df.columns)\n",
        "print(f\"\\nNúmero de filas: {num_filas}\")\n",
        "print(f\"Número de columnas: {num_columnas}\")"
      ],
      "metadata": {
        "colab": {
          "base_uri": "https://localhost:8080/"
        },
        "id": "UlWTFcUmrJX8",
        "outputId": "aac834b3-77d5-4007-f291-9161ce1d72cb"
      },
      "execution_count": 30,
      "outputs": [
        {
          "output_type": "stream",
          "name": "stdout",
          "text": [
            "\n",
            "Número de filas: 67230350\n",
            "Número de columnas: 9\n"
          ]
        }
      ]
    },
    {
      "cell_type": "code",
      "source": [
        "df.describe().show()"
      ],
      "metadata": {
        "colab": {
          "base_uri": "https://localhost:8080/"
        },
        "id": "HGJXiQ0Lrv94",
        "outputId": "2921d218-df22-425c-9ff0-f4f978e374d6"
      },
      "execution_count": 32,
      "outputs": [
        {
          "output_type": "stream",
          "name": "stdout",
          "text": [
            "+-------+------------+-----------+--------------------+--------------------+-------------------+------------------+-------------------+------------------+\n",
            "|summary| nombre_nodo|nombre_plan|          id_consumo|dow_gigabyte_consumo|up_gigabyte_consumo|  dow_rate_consumo|    up_rate_consumo|    uptime_consumo|\n",
            "+-------+------------+-----------+--------------------+--------------------+-------------------+------------------+-------------------+------------------+\n",
            "|  count|    67230350|   67230350|            67230350|            67230350|           67230350|          67230350|           67230350|          67230350|\n",
            "|   mean|        NULL|       NULL|2.0024924135975072E8|  28.976774407392934| 1.9693674352427821|1.2703520358004032|0.08705042172160608|2.5414746543778803|\n",
            "| stddev|        NULL|       NULL|1.9664582446379468E7|   43.61501834880509|  4.822233983520108| 4.025980835546445| 0.9884029361159161| 1.571802231374043|\n",
            "|    min|172.31.100.1|   PLAN100M|           166150091|                 0.0|                0.0|               0.0|                0.0|                0s|\n",
            "|    max|172.31.100.6|    PLAN80M|           234258438|             1049.45|              546.8|            411.01|              402.6|                9s|\n",
            "+-------+------------+-----------+--------------------+--------------------+-------------------+------------------+-------------------+------------------+\n",
            "\n"
          ]
        }
      ]
    },
    {
      "cell_type": "code",
      "source": [
        "print(\"\\nColumnas dow_rate_consumo diferentes a 0:\")\n",
        "df.filter(df[\"dow_rate_consumo\"] != 0).show()"
      ],
      "metadata": {
        "colab": {
          "base_uri": "https://localhost:8080/"
        },
        "id": "FBTIAmxbDktH",
        "outputId": "3c6babf2-dcdf-4330-d102-69b4230214a7"
      },
      "execution_count": 34,
      "outputs": [
        {
          "output_type": "stream",
          "name": "stdout",
          "text": [
            "\n",
            "Columnas dow_rate_consumo diferentes a 0:\n",
            "+------------+-----------+----------+--------------------+-------------------+----------------+---------------+--------------+--------------------+\n",
            "| nombre_nodo|nombre_plan|id_consumo|dow_gigabyte_consumo|up_gigabyte_consumo|dow_rate_consumo|up_rate_consumo|uptime_consumo|            fecha_rg|\n",
            "+------------+-----------+----------+--------------------+-------------------+----------------+---------------+--------------+--------------------+\n",
            "|172.31.100.1|     PLAN5M| 166150122|                0.98|               0.38|            5.81|           0.24|      1h24m43s|2023-12-01 07:50:...|\n",
            "|172.31.100.1|     PLAN5M| 166150121|                5.42|               0.31|            0.03|           0.01|      14h7m34s|2023-12-01 07:50:...|\n",
            "|172.31.100.1|     PLAN5M| 166150118|               14.06|               1.13|            0.03|           0.06|     15h31m41s|2023-12-01 07:50:...|\n",
            "|172.31.100.1|     PLAN5M| 166150115|                8.41|               0.64|            0.85|           0.02|     15h49m32s|2023-12-01 07:50:...|\n",
            "|172.31.100.1|     PLAN5M| 166150113|                9.47|                0.8|            1.68|           0.07|     15h49m33s|2023-12-01 07:50:...|\n",
            "|172.31.100.1|     PLAN5M| 166150112|                8.02|                0.5|            2.63|           0.31|     15h49m32s|2023-12-01 07:50:...|\n",
            "|172.31.100.1|     PLAN5M| 166150109|                6.22|               0.72|            5.72|           0.28|     15h49m33s|2023-12-01 07:50:...|\n",
            "|172.31.100.1|     PLAN5M| 166150101|                37.4|               2.56|             3.2|           0.12|     2d7h4m52s|2023-12-01 07:50:...|\n",
            "|172.31.100.1|     PLAN5M| 166150100|               17.81|               0.57|            4.13|           0.11|     2d7h4m52s|2023-12-01 07:50:...|\n",
            "|172.31.100.1|     PLAN5M| 166150097|               16.34|               0.88|            3.72|           0.02|     2d7h5m36s|2023-12-01 07:50:...|\n",
            "|172.31.100.1|     PLAN5M| 166150092|               79.77|               7.12|            0.59|           0.04|    5d16h3m39s|2023-12-01 07:50:...|\n",
            "|172.31.100.2|     PLAN5M| 166150203|                19.8|               2.83|            0.03|           0.01|     2d7h4m51s|2023-12-01 07:50:...|\n",
            "|172.31.100.2|   PLAN200M| 166150200|               17.31|               0.74|            0.05|           0.06|     2d7h4m52s|2023-12-01 07:50:...|\n",
            "|172.31.100.2|     PLAN5M| 166150196|               35.13|               2.57|            0.14|           0.04|     2d7h4m53s|2023-12-01 07:50:...|\n",
            "|172.31.100.2|     PLAN5M| 166150191|               18.35|                1.1|            0.77|           0.03|     2d7h4m53s|2023-12-01 07:50:...|\n",
            "|172.31.100.2|     PLAN5M| 166150186|                39.3|               2.81|            3.08|           0.11|     2d7h5m41s|2023-12-01 07:50:...|\n",
            "|172.31.100.2|     PLAN5M| 166150185|               27.52|               2.55|            0.16|           0.02|     2d7h5m42s|2023-12-01 07:50:...|\n",
            "|172.31.100.2|     PLAN5M| 166150183|                9.59|               1.17|            5.14|           0.16|     2d8h8m50s|2023-12-01 07:50:...|\n",
            "|172.31.100.2|     PLAN5M| 166150180|               40.04|               2.88|             2.2|           0.06|    2d20h4m29s|2023-12-01 07:50:...|\n",
            "|172.31.100.2|     PLAN5M| 166150179|               28.72|               1.54|            0.01|           0.01|    2d21h22m2s|2023-12-01 07:50:...|\n",
            "+------------+-----------+----------+--------------------+-------------------+----------------+---------------+--------------+--------------------+\n",
            "only showing top 20 rows\n",
            "\n"
          ]
        }
      ]
    },
    {
      "cell_type": "code",
      "source": [],
      "metadata": {
        "id": "9NkT7eX-FAod"
      },
      "execution_count": null,
      "outputs": []
    }
  ]
}